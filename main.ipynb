{
 "cells": [
  {
   "cell_type": "code",
   "execution_count": 1,
   "metadata": {},
   "outputs": [],
   "source": [
    "import psycopg2\n",
    "import pandas as pd\n",
    "import pandas.io.sql as sqlio"
   ]
  },
  {
   "cell_type": "code",
   "execution_count": 2,
   "metadata": {},
   "outputs": [],
   "source": [
    "conn = psycopg2.connect(\n",
    "    host=\"localhost\",\n",
    "    database=\"postgres\",\n",
    "    user=\"postgres\",\n",
    "    password=\"password\")"
   ]
  },
  {
   "cell_type": "code",
   "execution_count": 3,
   "metadata": {},
   "outputs": [],
   "source": [
    "cur = conn.cursor()"
   ]
  },
  {
   "cell_type": "code",
   "execution_count": 4,
   "metadata": {},
   "outputs": [
    {
     "name": "stdout",
     "output_type": "stream",
     "text": [
      "PostgreSQL database version:\n",
      "('PostgreSQL 15.1, compiled by Visual C++ build 1914, 64-bit',)\n"
     ]
    }
   ],
   "source": [
    "print('PostgreSQL database version:')\n",
    "cur.execute('SELECT version()')\n",
    "db_version = cur.fetchone()\n",
    "print(db_version)"
   ]
  },
  {
   "cell_type": "code",
   "execution_count": null,
   "metadata": {},
   "outputs": [],
   "source": [
    "## cell for getting student/team names\n",
    "data = sqlio.read_sql_query(\"\"\"select distinct * from users\n",
    "order by userid\n",
    " \"\"\", conn)\n",
    "\n",
    "data.head(30)"
   ]
  },
  {
   "cell_type": "code",
   "execution_count": null,
   "metadata": {},
   "outputs": [],
   "source": [
    "# queries\n",
    "#cur.execute(\"select * from users;\")\n",
    "#cur.fetchmany(10)\n",
    "\n",
    "# directly into pandas dataframe\n",
    "#data = sqlio.read_sql_query(\"SELECT * FROM users\", conn)\n",
    "#data.head(15)\n",
    "\n",
    "## count amount of test runs per users\n",
    "#data = sqlio.read_sql_query(\"select username, count(userid) c from testrun natural join users group by username order by c desc;\", conn)\n",
    "#data.head(10)\n",
    "\n",
    "## count successful test run for a specific user\n",
    "\n",
    "\n",
    "data = sqlio.read_sql_query(\"\"\"SELECT count(testname) test_run_count, username, suitename, testname\n",
    "    FROM testrun\n",
    "        NATURAL JOIN users\n",
    "        natural join testintestrun\n",
    "        natural join test\n",
    "        natural join suitelookup\n",
    "        natural join testnamelookup\n",
    "    where username like '%-anonymized'\n",
    "    group by username, suitename, testname\n",
    "    order by suitename\n",
    "    limit 1000\"\"\" , conn)\n",
    "\n",
    "data"
   ]
  },
  {
   "cell_type": "code",
   "execution_count": null,
   "metadata": {},
   "outputs": [],
   "source": [
    "#random small queries\n",
    "data = sqlio.read_sql_query(\"\"\"select distinct testnameid, suiteid, suitename, testname from test\n",
    "natural join testnamelookup\n",
    "natural join suitelookup\n",
    "order by testnameid\n",
    " \"\"\", conn)\n",
    "#data.to_csv('testnames_and_suitenames.csv', index=False,)\n",
    "data\n"
   ]
  },
  {
   "cell_type": "code",
   "execution_count": null,
   "metadata": {},
   "outputs": [],
   "source": [
    "#random small queries 2\n",
    "data = sqlio.read_sql_query(\"\"\"select username, userid, count(userid) testruns from testrun \n",
    "    natural join users \n",
    "    group by username, userid\n",
    "    order by testruns desc;\n",
    " \"\"\", conn)\n",
    "#data.to_csv('total_test_runs_by_group.csv', index=False,)\n",
    "#data#.pivot(index='username', columns='testruns')\n",
    "\n",
    "tt = sqlio.read_sql_query(\"\"\"SELECT count(username) test_run_count, username, suitename, suiteid\n",
    "        FROM testrun\n",
    "            NATURAL JOIN users\n",
    "            natural join testintestrun\n",
    "            natural join test\n",
    "            natural join suitelookup\n",
    "        where username like '%-anonymized'\n",
    "        group by username, suitename, suiteid\n",
    "        order by suiteid\n",
    "        \"\"\", conn)\n",
    "\n",
    "tt"
   ]
  },
  {
   "attachments": {},
   "cell_type": "markdown",
   "metadata": {},
   "source": [
    "#### code to add testsuites as columns to student index"
   ]
  },
  {
   "cell_type": "code",
   "execution_count": null,
   "metadata": {},
   "outputs": [],
   "source": [
    "students = pd.read_csv('students_cleaned.csv',)\n",
    "testsuites = pd.read_csv('testsuites.csv', )\n",
    "newdf = students.reindex(columns=testsuites.suiteid.astype('int32'))\n",
    "students = students.join(newdf)\n",
    "\n",
    "#newdf.rename(columns={'suiteid'})\n",
    "students.to_csv('students_and_testsuiteids.csv')\n",
    "#for i in range(1-46):\n",
    "#    students = students.astype('int32')\n",
    "students\n",
    "\n"
   ]
  },
  {
   "cell_type": "code",
   "execution_count": 102,
   "metadata": {},
   "outputs": [],
   "source": [
    "## add number of testsuites runs to students/groups\n",
    "\n",
    "import sys\n",
    "\n",
    "## main insertion method, loop this\n",
    "\n",
    "\n",
    "students_iterate = students\n",
    "data = sqlio.read_sql_query(\"\"\"SELECT count(username) test_run_count, username, suitename, suiteid\n",
    "        FROM testrun\n",
    "            NATURAL JOIN users\n",
    "            natural join testintestrun\n",
    "            natural join test\n",
    "            natural join suitelookup\n",
    "        where username = %s\n",
    "        group by username, suitename, suiteid\n",
    "        order by suiteid\n",
    "        \"\"\", conn, params = ['anonymized-anonymized'])\n",
    "\n",
    "\n",
    "for name in students['username']:\n",
    "    suiteids = data['suiteid'].tolist() # 1-45 sometimes 1-37 set\n",
    "    data = sqlio.read_sql_query(\"\"\"SELECT count(username) test_run_count, username, suitename, suiteid\n",
    "        FROM testrun\n",
    "            NATURAL JOIN users\n",
    "            natural join testintestrun\n",
    "            natural join test\n",
    "            natural join suitelookup\n",
    "        where username = %s\n",
    "        group by username, suitename, suiteid\n",
    "        order by suiteid\n",
    "        \"\"\", conn, params = [name])\n",
    "\n",
    "    for i in suiteids:\n",
    "        cell = (data.loc[data['suiteid'] == i]['test_run_count'])\n",
    "        if len(cell) == 1:\n",
    "            count = cell.item()\n",
    "        else:\n",
    "            count = 0\n",
    "        students.at[students['username'] == name, [i]] = count\n",
    "\n",
    "#data"
   ]
  },
  {
   "cell_type": "code",
   "execution_count": 8,
   "metadata": {},
   "outputs": [],
   "source": [
    "students = pd.read_csv('students_and_test_run_counts.csv', index_col=0)\n",
    "#students\n",
    "# only single students regex: '^[^-]+$'\n",
    "#students[students['username'].str.contains('^[^-]+$')]\n",
    "#students[students['username'].str.contains('-')]\n",
    "#print(students.isna().sum()\n",
    "#students.sort_values(by='username').loc[:,['username']].to_csv('usernames-sorted.csv')\n"
   ]
  },
  {
   "cell_type": "code",
   "execution_count": null,
   "metadata": {},
   "outputs": [],
   "source": [
    "pd.read_csv('only_students_test_run_counts.csv', index_col=0,).fillna(0)"
   ]
  },
  {
   "attachments": {},
   "cell_type": "markdown",
   "metadata": {},
   "source": [
    "##### add run test counts from groups into individual student rows"
   ]
  },
  {
   "cell_type": "code",
   "execution_count": null,
   "metadata": {},
   "outputs": [],
   "source": [
    "single_students = pd.read_csv('only_students_test_run_counts.csv', index_col=0, usecols=[i for i in range(1,48)]).fillna(0)\n",
    "groups = pd.read_csv('only_groups_test_run_counts.csv', index_col=0, usecols=[i for i in range(1,48)]).fillna(0)\n",
    "                                                                                                              \n",
    "#single_students = pd.read_csv('only_students_test_run_counts.csv').fillna(0)\n",
    "#groups = pd.read_csv('only_groups_test_run_counts.csv').fillna(0)\n",
    "\n",
    "# do loop like this \n",
    "# first iterate names of single_students\n",
    "# find corresponding group\n",
    "# add together the test run counts for each suite\n",
    "# append row to new dataframe copy of single_students\n",
    "newdf = single_students.copy()\n",
    "doubleteam = 0\n",
    "for index, studentrow in single_students.iterrows():\n",
    "    grouprow = groups[groups['username'].str.contains(studentrow['username'])]\n",
    "    \n",
    "    # check if grouprow is empty first\n",
    "    if grouprow.shape[0] != 0:\n",
    "        for column, content in grouprow.items():\n",
    "            if column == 'username': # skip username row\n",
    "                continue\n",
    "            if content.shape != (1,):\n",
    "                newdf.at[index, column] += (content.iat[0] + content.iat[1])\n",
    "                doubleteam+=1\n",
    "            else:\n",
    "                newdf.at[index, column] += content\n",
    "            \n",
    "    # do pandas.apply here?\n",
    "print(f'rows with double team: {doubleteam}\\nteams with double students: {doubleteam/45}')\n",
    "#print(groups[groups['username'].str.contains(studentrow['username'])])\n",
    "    \n",
    "\n",
    "testdf = pd.DataFrame(newdf.loc[[18640]]).append(groups.loc[[31492]]).append(single_students.loc[[18640]])\n",
    "testdf\n"
   ]
  },
  {
   "cell_type": "code",
   "execution_count": 141,
   "metadata": {},
   "outputs": [
    {
     "data": {
      "text/plain": [
       "4    234\n",
       "Name: test_run_count, dtype: int64"
      ]
     },
     "execution_count": 141,
     "metadata": {},
     "output_type": "execute_result"
    }
   ],
   "source": [
    "data = sqlio.read_sql_query(\"\"\"SELECT count(username) test_run_count, username, suitename, suiteid\n",
    "        FROM testrun\n",
    "            NATURAL JOIN users\n",
    "            natural join testintestrun\n",
    "            natural join test\n",
    "            natural join suitelookup\n",
    "        where username = %s\n",
    "        group by username, suitename, suiteid\n",
    "        order by suiteid\n",
    "        \"\"\", conn, params = ['anonymized'])\n",
    "\n",
    "\n",
    "#data.loc[data['suiteid'] == 1]['test_run_count']\n",
    "#data = data.pivot(index = None, columns = 'suiteid', values='test_run_count')\n",
    "#data = data.drop(['suitename'], 1)\n",
    "data.loc[data['suiteid'] == 5]['test_run_count']\n",
    "\n",
    "#merged = pd.merge(students, data.T, how='left', left_index=True, right_index=True, )\n",
    "#merged.get(92)\n",
    "\n"
   ]
  },
  {
   "cell_type": "code",
   "execution_count": null,
   "metadata": {},
   "outputs": [],
   "source": [
    "## get grades from canvas and clean up\n",
    "\n",
    "grades = pd.read_csv('grades.csv')\n",
    "#grades.loc[:,['Student','Project submission (220629)']\n",
    "grades = grades.rename(columns={'Project submission (anonymized)' : 'grade', 'SIS Login ID' : 'username', 'Student': 'name'})\n",
    "#gradesdict = {5.0: 'A', 4.0 : 'B', 3.0 : 'C', 2.0 : 'D', 1.0 : 'E', 0.0 : 'F'}\n",
    "gradespassfail = {5.0: 1, 4.0 : 1, 3.0 : 1, 2.0 : 1, 1.0 : 1, 0.0 : 0, 3.5: 1}\n",
    "grades = grades.replace({'grade': gradespassfail})\n",
    "#grades.loc[grades['grade'] >= 1, 'grade'] = 1\n",
    "\n",
    "grades = grades.drop([0,1,252])\n",
    "grades = grades.replace(to_replace='@kth.se', value = '', regex=True)\n",
    "#grades.loc[grades['username'] == 'anonymized'].drop(columns = list(grades.filter(regex='(TW)|(Bonus)|(reflection)|([Uu]nposted)')))\n",
    "#grades.filter(regex = '(name)|([gG]rade)|([Pp]roject)')\n",
    "grades[grades['grade'] < 1 ]['grade'] #find null grades\n",
    "grades[['username', 'grade']]\n"
   ]
  },
  {
   "attachments": {},
   "cell_type": "markdown",
   "metadata": {},
   "source": [
    "##### add grades to students"
   ]
  },
  {
   "cell_type": "code",
   "execution_count": 10,
   "metadata": {},
   "outputs": [],
   "source": [
    "merge = pd.merge(grades.loc[:,['username','grade']], newdf, left_on = 'username', right_on = 'username', how = 'right')\n",
    "\n",
    "#students.sort_values(by='username').loc[:,['username']].to_csv('usernames-sorted.csv')\n",
    "#merge.loc[:,['username', 'grade']].to_csv('usernames_and_grades_sorted.csv')\n",
    "\n",
    "merge[merge.isna().any(axis=1)] # null grades\n",
    "\n",
    "merge = merge.fillna(0).astype({'grade': 'int32'})\n",
    "merge = merge.drop(merge.loc[merge['username'] == 'anonymous'].index) # drop anon\n",
    "merge.to_csv('final_training_data_test.csv')"
   ]
  },
  {
   "cell_type": "code",
   "execution_count": 11,
   "metadata": {},
   "outputs": [],
   "source": [
    "# close connection\n",
    "cur.close()\n",
    "conn.close()"
   ]
  }
 ],
 "metadata": {
  "kernelspec": {
   "display_name": "Python 3",
   "language": "python",
   "name": "python3"
  },
  "language_info": {
   "codemirror_mode": {
    "name": "ipython",
    "version": 3
   },
   "file_extension": ".py",
   "mimetype": "text/x-python",
   "name": "python",
   "nbconvert_exporter": "python",
   "pygments_lexer": "ipython3",
   "version": "3.7.1"
  },
  "orig_nbformat": 4
 },
 "nbformat": 4,
 "nbformat_minor": 2
}
